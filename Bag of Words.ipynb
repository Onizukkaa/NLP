{
 "cells": [
  {
   "cell_type": "markdown",
   "id": "590a1303",
   "metadata": {},
   "source": [
    "# Bag of Words"
   ]
  },
  {
   "cell_type": "code",
   "execution_count": 1,
   "id": "0dc18d1f",
   "metadata": {},
   "outputs": [],
   "source": [
    "from sklearn.feature_extraction.text import CountVectorizer"
   ]
  },
  {
   "cell_type": "code",
   "execution_count": 2,
   "id": "3e48a101",
   "metadata": {},
   "outputs": [],
   "source": [
    "#Texte à analyser\n",
    "sentences=[\"Jim and Pam travelled by the bus:\",\n",
    "          \"The train was late\",\n",
    "          \"The flight was fuul.Travelling by flight is expensive\"]"
   ]
  },
  {
   "cell_type": "code",
   "execution_count": 3,
   "id": "ef000561",
   "metadata": {},
   "outputs": [],
   "source": [
    "#Créer un objet\n",
    "cv=CountVectorizer()\n"
   ]
  },
  {
   "cell_type": "code",
   "execution_count": 4,
   "id": "6bcf9d79",
   "metadata": {},
   "outputs": [],
   "source": [
    "#Générer sortie pour Bag of Words\n",
    "\n",
    "B_O_W=cv.fit_transform(sentences).toarray()"
   ]
  },
  {
   "cell_type": "code",
   "execution_count": 5,
   "id": "75fdeb25",
   "metadata": {},
   "outputs": [
    {
     "name": "stdout",
     "output_type": "stream",
     "text": [
      "{'jim': 7, 'and': 0, 'pam': 9, 'travelled': 12, 'by': 2, 'the': 10, 'bus': 1, 'train': 11, 'was': 14, 'late': 8, 'flight': 4, 'fuul': 5, 'travelling': 13, 'is': 6, 'expensive': 3}\n",
      "\n",
      "\n"
     ]
    }
   ],
   "source": [
    "#Total mot et sont index\n",
    "print(cv.vocabulary_)\n",
    "print(\"\\n\")"
   ]
  },
  {
   "cell_type": "code",
   "execution_count": 7,
   "id": "0144fcd4",
   "metadata": {},
   "outputs": [
    {
     "name": "stdout",
     "output_type": "stream",
     "text": [
      "['and' 'bus' 'by' 'expensive' 'flight' 'fuul' 'is' 'jim' 'late' 'pam'\n",
      " 'the' 'train' 'travelled' 'travelling' 'was']\n",
      "\n",
      "\n"
     ]
    }
   ],
   "source": [
    "#Features\n",
    "print(cv.get_feature_names_out())\n",
    "print(\"\\n\")"
   ]
  },
  {
   "cell_type": "code",
   "execution_count": 8,
   "id": "97ebcd2c",
   "metadata": {},
   "outputs": [
    {
     "name": "stdout",
     "output_type": "stream",
     "text": [
      "[[1 1 1 0 0 0 0 1 0 1 1 0 1 0 0]\n",
      " [0 0 0 0 0 0 0 0 1 0 1 1 0 0 1]\n",
      " [0 0 1 1 2 1 1 0 0 0 1 0 0 1 1]]\n"
     ]
    }
   ],
   "source": [
    "#voir sortie\n",
    "\n",
    "print(B_O_W)"
   ]
  },
  {
   "cell_type": "code",
   "execution_count": null,
   "id": "9023c070",
   "metadata": {},
   "outputs": [],
   "source": []
  }
 ],
 "metadata": {
  "kernelspec": {
   "display_name": "Python 3 (ipykernel)",
   "language": "python",
   "name": "python3"
  },
  "language_info": {
   "codemirror_mode": {
    "name": "ipython",
    "version": 3
   },
   "file_extension": ".py",
   "mimetype": "text/x-python",
   "name": "python",
   "nbconvert_exporter": "python",
   "pygments_lexer": "ipython3",
   "version": "3.8.12"
  }
 },
 "nbformat": 4,
 "nbformat_minor": 5
}
