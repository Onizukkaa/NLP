{
 "cells": [
  {
   "cell_type": "markdown",
   "id": "9457e867",
   "metadata": {},
   "source": [
    "# Word Cloud"
   ]
  },
  {
   "cell_type": "code",
   "execution_count": 1,
   "id": "b06a8e6f",
   "metadata": {},
   "outputs": [],
   "source": [
    "from wordcloud import WordCloud"
   ]
  },
  {
   "cell_type": "code",
   "execution_count": 2,
   "id": "020d3f23",
   "metadata": {},
   "outputs": [],
   "source": [
    "import matplotlib.pyplot as plt"
   ]
  },
  {
   "cell_type": "code",
   "execution_count": null,
   "id": "18ecba7e",
   "metadata": {},
   "outputs": [],
   "source": [
    "#Générer le wordlcloud\n",
    "wordcloud=WordlCloud().generate(text)\n",
    "\n",
    "#plot the wordlcloud\n",
    "plt.figure(figsize=(12,12))\n",
    "plt.imshow(wordcloud)\n",
    "\n",
    "#To remove axis value\n",
    "plt.axis(\"off\")\n",
    "plt.show()"
   ]
  }
 ],
 "metadata": {
  "kernelspec": {
   "display_name": "Python 3 (ipykernel)",
   "language": "python",
   "name": "python3"
  },
  "language_info": {
   "codemirror_mode": {
    "name": "ipython",
    "version": 3
   },
   "file_extension": ".py",
   "mimetype": "text/x-python",
   "name": "python",
   "nbconvert_exporter": "python",
   "pygments_lexer": "ipython3",
   "version": "3.8.12"
  }
 },
 "nbformat": 4,
 "nbformat_minor": 5
}
